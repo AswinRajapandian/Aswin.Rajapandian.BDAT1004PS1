{
 "cells": [
  {
   "cell_type": "markdown",
   "id": "6755f0c4",
   "metadata": {},
   "source": [
    "#Question 1"
   ]
  },
  {
   "cell_type": "code",
   "execution_count": 1,
   "id": "c18f7c16",
   "metadata": {},
   "outputs": [
    {
     "name": "stdout",
     "output_type": "stream",
     "text": [
      "Value in a 5 belongs to datatype <class 'int'>\n",
      "Value in b 5.0 belongs to datatype <class 'float'>\n",
      "Value in c True belongs to datatype <class 'bool'>\n",
      "Value in d 5 belongs to datatype <class 'str'>\n",
      "Value in e 10 belongs to datatype <class 'int'>\n",
      "Value in f 55 belongs to datatype <class 'str'>\n",
      "Value in g 52 belongs to datatype <class 'str'>\n",
      "Value in h 2.5 belongs to datatype <class 'float'>\n",
      "Value in i 1 belongs to datatype <class 'int'>\n",
      "Value in j {1, 2, 5} belongs to datatype <class 'set'>\n",
      "Value in k False belongs to datatype <class 'bool'>\n",
      "Value in pi 3.141592653589793 belongs to datatype <class 'float'>\n"
     ]
    }
   ],
   "source": [
    "a=5\n",
    "b=5.0\n",
    "c=5 > 1\n",
    "d='5'\n",
    "e=5 * 2\n",
    "f='5' * 2\n",
    "g='5' + '2'\n",
    "h=5 / 2\n",
    "i=5%2\n",
    "j={5, 2, 1}\n",
    "k=5==3\n",
    "pi=3.141592653589793238\n",
    "print(\"Value in a \"+ str(a) +\" belongs to datatype\",type(a)) #adding numbers to strings doesn’t work. So explicitly converted the number to string first.\n",
    "print(\"Value in b \"+ str(b) +\" belongs to datatype\",type(b))\n",
    "print(\"Value in c \"+ str(c) +\" belongs to datatype\",type(c))\n",
    "print(\"Value in d \"+ str(d) +\" belongs to datatype\",type(d))\n",
    "print(\"Value in e \"+ str(e) +\" belongs to datatype\",type(e))\n",
    "print(\"Value in f \"+ str(f) +\" belongs to datatype\",type(f))\n",
    "print(\"Value in g \"+ str(g) +\" belongs to datatype\",type(g))\n",
    "print(\"Value in h \"+ str(h) +\" belongs to datatype\",type(h))\n",
    "print(\"Value in i \"+ str(i) +\" belongs to datatype\",type(i))\n",
    "print(\"Value in j \"+ str(j) +\" belongs to datatype\",type(j))\n",
    "print(\"Value in k \"+ str(k) +\" belongs to datatype\",type(k))\n",
    "print(\"Value in pi \"+ str(pi) +\" belongs to datatype\",type(pi))"
   ]
  },
  {
   "cell_type": "markdown",
   "id": "8c8006b1",
   "metadata": {},
   "source": [
    "#Question 2"
   ]
  },
  {
   "cell_type": "code",
   "execution_count": 2,
   "id": "7e454651",
   "metadata": {},
   "outputs": [
    {
     "name": "stdout",
     "output_type": "stream",
     "text": [
      "34\n",
      "ice is a substring\n",
      "Supercalifragilisticexpialidocious\n",
      "Bartok is the composer name that comes first in dictionary\n",
      "Buxtehude is the composer name that comes last in dictionary\n"
     ]
    }
   ],
   "source": [
    "#a\n",
    "a=\"Supercalifragilisticexpialidocious\" \n",
    "b=\"ice\" \n",
    "c=\"Honorificabilitudinitatibus\" \n",
    "d=\"Bababadalgharaghtakamminarronnkonn\" \n",
    "print(len(a))\n",
    "#b\n",
    "if \"ice\" in \"Supercalifragilisticexpialidocious\": \n",
    "    print(\"ice is a substring\") \n",
    "else: \n",
    "    print(\"ice is not a substring\")\n",
    "#c\n",
    "Total_length= [len(a), len(b), len(c)]\n",
    "Highest_length= max(Total_length)\n",
    "longestword=''\n",
    "if Highest_length==len(a):\n",
    "    longestword=a\n",
    "elif Highest_length==len(b):\n",
    "    longestword=b\n",
    "else:\n",
    "    longestword=c\n",
    "print(longestword)\n",
    "#d\n",
    "Composer_names=['Berlioz','Borodin','Brian','Bartok','Bellini','Buxtehude','Bernstein']\n",
    "min(Composer_names)\n",
    "max(Composer_names)\n",
    "print(min(Composer_names) + ' is the composer name that comes first in dictionary')\n",
    "print(max(Composer_names) + ' is the composer name that comes last in dictionary')"
   ]
  },
  {
   "cell_type": "markdown",
   "id": "6223a835",
   "metadata": {},
   "source": [
    "#Question 3"
   ]
  },
  {
   "cell_type": "code",
   "execution_count": 3,
   "id": "239e258a",
   "metadata": {},
   "outputs": [
    {
     "name": "stdout",
     "output_type": "stream",
     "text": [
      "Enter the length of side A: 2\n",
      "Enter the length of side B: 2\n",
      "Enter the length of side C: 2\n",
      "Area of the given Triangle is:1.7320508075688772\n"
     ]
    }
   ],
   "source": [
    "import math\n",
    "X=float(input('Enter the length of side A: '))\n",
    "Y=float(input('Enter the length of side B: '))\n",
    "Z=float(input('Enter the length of side C: '))\n",
    "S=(X+Y+Z)/2\n",
    "AreaofTriangle = math.sqrt(S*(S-X)*(S-Y)*(S-Z))\n",
    "print('Area of the given Triangle is:' +str(AreaofTriangle))"
   ]
  },
  {
   "cell_type": "markdown",
   "id": "20333928",
   "metadata": {},
   "source": [
    "#Question 4"
   ]
  },
  {
   "cell_type": "code",
   "execution_count": 4,
   "id": "73924d8d",
   "metadata": {},
   "outputs": [
    {
     "name": "stdout",
     "output_type": "stream",
     "text": [
      "Even elements in the array are: [42, 56, 32]\n",
      "Odd elements in tha array are: [25, 47]\n"
     ]
    }
   ],
   "source": [
    "Elements=[25, 47, 42, 56, 32]\n",
    "Even_elements=[]\n",
    "Odd_elements=[]\n",
    "for i in Elements:\n",
    "    if i%2 == 0:\n",
    "        Even_elements.append(i)\n",
    "    elif i%2 !=0:\n",
    "        Odd_elements.append(i)\n",
    "print('Even elements in the array are: ' +str(Even_elements))\n",
    "print('Odd elements in tha array are: ' +str(Odd_elements))"
   ]
  },
  {
   "cell_type": "markdown",
   "id": "69195d94",
   "metadata": {},
   "source": [
    "#Question 5"
   ]
  },
  {
   "cell_type": "code",
   "execution_count": 5,
   "id": "c0eb3de3",
   "metadata": {},
   "outputs": [
    {
     "data": {
      "text/plain": [
       "True"
      ]
     },
     "execution_count": 5,
     "metadata": {},
     "output_type": "execute_result"
    }
   ],
   "source": [
    "#Solution to Question 5.a)\n",
    "\n",
    "def inside(x, y, x1, y1, x2, y2):\n",
    "    if((x2>x>x1)and (y2>y>y1)):\n",
    "        return True \n",
    "    else:\n",
    "        return False\n",
    "inside(1, 1, 0, 0, 2, 3)"
   ]
  },
  {
   "cell_type": "code",
   "execution_count": 6,
   "id": "9bbce158",
   "metadata": {},
   "outputs": [
    {
     "name": "stdout",
     "output_type": "stream",
     "text": [
      "lies outside both\n"
     ]
    },
    {
     "data": {
      "text/plain": [
       "False"
      ]
     },
     "execution_count": 6,
     "metadata": {},
     "output_type": "execute_result"
    }
   ],
   "source": [
    "#Solution to Question 5.b)\n",
    "\n",
    "def inside(x, y, x1, y1, x2, y2):\n",
    "    if((x2>x>x1)and (y2>y>y1)):\n",
    "        return True \n",
    "    else:\n",
    "        return False\n",
    "         \n",
    "if (inside(1,1,0.3,0.5,1.1,0.7) and inside(1,1,0.5,0.2,1.1,2)):\n",
    "    print(\"lies inside both\")\n",
    "else:\n",
    "    print(\"lies outside both\")\n",
    "inside(-1, -1, 0, 0, 2, 3)"
   ]
  },
  {
   "cell_type": "markdown",
   "id": "59bab93a",
   "metadata": {},
   "source": [
    "#Question 6"
   ]
  },
  {
   "cell_type": "code",
   "execution_count": 9,
   "id": "2627d1ed",
   "metadata": {},
   "outputs": [
    {
     "data": {
      "text/plain": [
       "'appyhay'"
      ]
     },
     "execution_count": 9,
     "metadata": {},
     "output_type": "execute_result"
    }
   ],
   "source": [
    "def pig(word):\n",
    "    word = word.lower()\n",
    "    vowels = ['a','e','i','o','u']\n",
    "    if word[0] in vowels:\n",
    "        pigString = word + 'way'\n",
    "    else:\n",
    "        pigString = word[1:] + word[0] + 'ay'\n",
    "\n",
    "    return pigString;\n",
    "pig('happy')"
   ]
  },
  {
   "cell_type": "markdown",
   "id": "ee22bd46",
   "metadata": {},
   "source": [
    "#Question 7"
   ]
  },
  {
   "cell_type": "code",
   "execution_count": 10,
   "id": "6961cf29",
   "metadata": {},
   "outputs": [
    {
     "name": "stdout",
     "output_type": "stream",
     "text": [
      "There are 15 patients who has blood group type A\n",
      "There are 1 patients who has blood group type B\n",
      "There are 13 patients who has blood group type AB\n",
      "There are 15 patients who has blood group type O\n"
     ]
    }
   ],
   "source": [
    "f=open('bloodtype1.txt','w+')\n",
    "f.write('AB AB B O A A AB O AB A O O A A A O O O AB O A A A A A AB AB A AB O AB O A O O O AB O AB AB AB A A O')\n",
    "f.close()\n",
    "\n",
    "def bldcount(content):\n",
    "    nAB=0\n",
    "    nB=0\n",
    "    nO=0\n",
    "    nA=0\n",
    "    list1= list(content.split(\" \"))\n",
    "    for item in list1:\n",
    "        if item ==\"A\":\n",
    "            nA=nA+1\n",
    "        elif item ==\"B\":\n",
    "            nB=nB+1\n",
    "        elif item ==\"AB\":\n",
    "            nAB=nAB+1\n",
    "        elif item == \"O\":\n",
    "            nO = nO+1\n",
    "    \n",
    "    print(\"There are \" + str(nA) + \" patients who has blood group type A\")\n",
    "    print(\"There are \" + str(nB) + \" patients who has blood group type B\")\n",
    "    print(\"There are \" + str(nAB) + \" patients who has blood group type AB\")        \n",
    "    print(\"There are \" + str(nO) + \" patients who has blood group type O\")\n",
    "        \n",
    "with open('bloodtype1.txt','r') as thefile:\n",
    "    content=thefile.read()\n",
    "\n",
    "bldcount(content)"
   ]
  },
  {
   "cell_type": "markdown",
   "id": "7d3917cd",
   "metadata": {},
   "source": [
    "#Question 8"
   ]
  },
  {
   "cell_type": "code",
   "execution_count": 36,
   "id": "af4755ab",
   "metadata": {},
   "outputs": [
    {
     "data": {
      "text/plain": [
       "1.241401"
      ]
     },
     "execution_count": 36,
     "metadata": {},
     "output_type": "execute_result"
    }
   ],
   "source": [
    "def curconv(country_code,amount):\n",
    "    with open('currencies.txt', 'r+') as f:\n",
    "        lines = f.read().splitlines()\n",
    "        for line in lines:\n",
    "            listWords = line.split(\" \")\n",
    "            if(listWords[0] == country_code):\n",
    "                us_dollar = float(amount) * float(listWords[1])\n",
    "                return us_dollar\n",
    "curconv(\"JPY\", 100)"
   ]
  },
  {
   "cell_type": "markdown",
   "id": "36b13aa5",
   "metadata": {},
   "source": [
    "#Question 9 solutions\n"
   ]
  },
  {
   "cell_type": "code",
   "execution_count": 34,
   "id": "c13a60e2",
   "metadata": {},
   "outputs": [
    {
     "ename": "TypeError",
     "evalue": "unsupported operand type(s) for +: 'int' and 'str'",
     "output_type": "error",
     "traceback": [
      "\u001b[1;31m---------------------------------------------------------------------------\u001b[0m",
      "\u001b[1;31mTypeError\u001b[0m                                 Traceback (most recent call last)",
      "Input \u001b[1;32mIn [34]\u001b[0m, in \u001b[0;36m<cell line: 1>\u001b[1;34m()\u001b[0m\n\u001b[1;32m----> 1\u001b[0m x\u001b[38;5;241m=\u001b[39m \u001b[38;5;241;43m6\u001b[39;49m\u001b[43m \u001b[49m\u001b[38;5;241;43m+\u001b[39;49m\u001b[43m \u001b[49m\u001b[38;5;124;43m'\u001b[39;49m\u001b[38;5;124;43ma\u001b[39;49m\u001b[38;5;124;43m'\u001b[39;49m\n\u001b[0;32m      2\u001b[0m \u001b[38;5;28mprint\u001b[39m(x)\n",
      "\u001b[1;31mTypeError\u001b[0m: unsupported operand type(s) for +: 'int' and 'str'"
     ]
    }
   ],
   "source": [
    "x= 6 + 'a'\n",
    "print(x)"
   ]
  },
  {
   "cell_type": "code",
   "execution_count": 30,
   "id": "7d594685",
   "metadata": {},
   "outputs": [
    {
     "ename": "IndexError",
     "evalue": "list index out of range",
     "output_type": "error",
     "traceback": [
      "\u001b[1;31m---------------------------------------------------------------------------\u001b[0m",
      "\u001b[1;31mIndexError\u001b[0m                                Traceback (most recent call last)",
      "Input \u001b[1;32mIn [30]\u001b[0m, in \u001b[0;36m<cell line: 2>\u001b[1;34m()\u001b[0m\n\u001b[0;32m      1\u001b[0m \u001b[38;5;66;03m#my_list= [0, 1, 2, 3, 4, 5,6, 7, 8, 9]\u001b[39;00m\n\u001b[1;32m----> 2\u001b[0m \u001b[38;5;28mprint\u001b[39m(\u001b[43mmy_list\u001b[49m\u001b[43m[\u001b[49m\u001b[38;5;241;43m12\u001b[39;49m\u001b[43m]\u001b[49m)\n",
      "\u001b[1;31mIndexError\u001b[0m: list index out of range"
     ]
    }
   ],
   "source": [
    "my_list= [0, 1, 2, 3, 4, 5,6, 7, 8, 9]\n",
    "print(my_list[12])"
   ]
  },
  {
   "cell_type": "code",
   "execution_count": 14,
   "id": "8e4e018a",
   "metadata": {},
   "outputs": [
    {
     "ename": "ValueError",
     "evalue": "math domain error",
     "output_type": "error",
     "traceback": [
      "\u001b[1;31m---------------------------------------------------------------------------\u001b[0m",
      "\u001b[1;31mValueError\u001b[0m                                Traceback (most recent call last)",
      "Input \u001b[1;32mIn [14]\u001b[0m, in \u001b[0;36m<cell line: 5>\u001b[1;34m()\u001b[0m\n\u001b[0;32m      2\u001b[0m \u001b[38;5;28;01mdef\u001b[39;00m \u001b[38;5;21msqrt\u001b[39m(z):\n\u001b[0;32m      3\u001b[0m     \u001b[38;5;28mprint\u001b[39m(math\u001b[38;5;241m.\u001b[39msqrt(z))\n\u001b[1;32m----> 5\u001b[0m \u001b[43msqrt\u001b[49m\u001b[43m(\u001b[49m\u001b[38;5;241;43m-\u001b[39;49m\u001b[38;5;241;43m1.0\u001b[39;49m\u001b[43m)\u001b[49m\n",
      "Input \u001b[1;32mIn [14]\u001b[0m, in \u001b[0;36msqrt\u001b[1;34m(z)\u001b[0m\n\u001b[0;32m      2\u001b[0m \u001b[38;5;28;01mdef\u001b[39;00m \u001b[38;5;21msqrt\u001b[39m(z):\n\u001b[1;32m----> 3\u001b[0m     \u001b[38;5;28mprint\u001b[39m(\u001b[43mmath\u001b[49m\u001b[38;5;241;43m.\u001b[39;49m\u001b[43msqrt\u001b[49m\u001b[43m(\u001b[49m\u001b[43mz\u001b[49m\u001b[43m)\u001b[49m)\n",
      "\u001b[1;31mValueError\u001b[0m: math domain error"
     ]
    }
   ],
   "source": [
    "import math\n",
    "def sqrt(z):\n",
    "    print(math.sqrt(z))\n",
    "\n",
    "sqrt(-1.0)"
   ]
  },
  {
   "cell_type": "code",
   "execution_count": 21,
   "id": "98bc57ab",
   "metadata": {},
   "outputs": [
    {
     "ename": "NameError",
     "evalue": "name 'z' is not defined",
     "output_type": "error",
     "traceback": [
      "\u001b[1;31m---------------------------------------------------------------------------\u001b[0m",
      "\u001b[1;31mNameError\u001b[0m                                 Traceback (most recent call last)",
      "Input \u001b[1;32mIn [21]\u001b[0m, in \u001b[0;36m<cell line: 2>\u001b[1;34m()\u001b[0m\n\u001b[0;32m      1\u001b[0m n\u001b[38;5;241m=\u001b[39m\u001b[38;5;124m'\u001b[39m\u001b[38;5;124mApple\u001b[39m\u001b[38;5;124m'\u001b[39m\n\u001b[1;32m----> 2\u001b[0m \u001b[38;5;28mprint\u001b[39m(\u001b[43mz\u001b[49m)\n",
      "\u001b[1;31mNameError\u001b[0m: name 'z' is not defined"
     ]
    }
   ],
   "source": [
    "n='Apple'\n",
    "print(z)"
   ]
  },
  {
   "cell_type": "code",
   "execution_count": 22,
   "id": "8ef96ea4",
   "metadata": {},
   "outputs": [
    {
     "ename": "FileNotFoundError",
     "evalue": "[Errno 2] No such file or directory: 'alphabets.txt'",
     "output_type": "error",
     "traceback": [
      "\u001b[1;31m---------------------------------------------------------------------------\u001b[0m",
      "\u001b[1;31mFileNotFoundError\u001b[0m                         Traceback (most recent call last)",
      "Input \u001b[1;32mIn [22]\u001b[0m, in \u001b[0;36m<cell line: 1>\u001b[1;34m()\u001b[0m\n\u001b[1;32m----> 1\u001b[0m f\u001b[38;5;241m=\u001b[39m\u001b[38;5;28;43mopen\u001b[39;49m\u001b[43m(\u001b[49m\u001b[38;5;124;43m'\u001b[39;49m\u001b[38;5;124;43malphabets.txt\u001b[39;49m\u001b[38;5;124;43m'\u001b[39;49m\u001b[43m,\u001b[49m\u001b[38;5;124;43m'\u001b[39;49m\u001b[38;5;124;43mr\u001b[39;49m\u001b[38;5;124;43m'\u001b[39;49m\u001b[43m)\u001b[49m\n\u001b[0;32m      2\u001b[0m \u001b[38;5;28mprint\u001b[39m (\u001b[38;5;124m\"\u001b[39m\u001b[38;5;124mThere are 26 letters in the alphabet\u001b[39m\u001b[38;5;124m\"\u001b[39m)\n",
      "\u001b[1;31mFileNotFoundError\u001b[0m: [Errno 2] No such file or directory: 'alphabets.txt'"
     ]
    }
   ],
   "source": [
    "f=open('alphabets.txt','r')\n",
    "print (\"There are 26 letters in the alphabet\")"
   ]
  },
  {
   "cell_type": "markdown",
   "id": "4385c7aa",
   "metadata": {},
   "source": [
    "#Question 10 solutions"
   ]
  },
  {
   "cell_type": "code",
   "execution_count": 23,
   "id": "22f45700",
   "metadata": {},
   "outputs": [
    {
     "name": "stdout",
     "output_type": "stream",
     "text": [
      "Count of all characters in string is :\n",
      " {'T': 1, 'h': 2, 'e': 5, ' ': 8, 'q': 1, 'u': 1, 'i': 1, 'c': 1, 'k': 1, 'r': 2, 'd': 3, 'f': 1, 'o': 4, 'x': 1, 'g': 1, 't': 2, 'b': 1, 'a': 1, 'n': 2, 'w': 1, 'm': 1, '.': 1}\n"
     ]
    }
   ],
   "source": [
    "string1 = \"The quick red fox got bored and went home.\"\n",
    "\n",
    "frequency = {}\n",
    "\n",
    "for i in string1:\n",
    "    if i in frequency:\n",
    "        frequency[i] += 1\n",
    "    else:\n",
    "        frequency[i] = 1\n",
    "        \n",
    "print (\"Count of all characters in string is :\\n \" +  str(frequency))"
   ]
  },
  {
   "cell_type": "code",
   "execution_count": 24,
   "id": "cca05254",
   "metadata": {},
   "outputs": [
    {
     "name": "stdout",
     "output_type": "stream",
     "text": [
      "Count of all characters in string is :\n",
      " {'a': 1, 'p': 2, 'l': 1, 'e': 1}\n"
     ]
    }
   ],
   "source": [
    "string2 =\"apple\"\n",
    "\n",
    "frequencies = {}\n",
    "\n",
    "for i in string2:\n",
    "    if i in frequencies:\n",
    "        frequencies[i] += 1\n",
    "    else:\n",
    "        frequencies[i] = 1\n",
    "print (\"Count of all characters in string is :\\n \" +  str(frequencies))"
   ]
  },
  {
   "cell_type": "code",
   "execution_count": null,
   "id": "37ddc811",
   "metadata": {},
   "outputs": [],
   "source": []
  }
 ],
 "metadata": {
  "kernelspec": {
   "display_name": "Python 3 (ipykernel)",
   "language": "python",
   "name": "python3"
  },
  "language_info": {
   "codemirror_mode": {
    "name": "ipython",
    "version": 3
   },
   "file_extension": ".py",
   "mimetype": "text/x-python",
   "name": "python",
   "nbconvert_exporter": "python",
   "pygments_lexer": "ipython3",
   "version": "3.9.12"
  }
 },
 "nbformat": 4,
 "nbformat_minor": 5
}
